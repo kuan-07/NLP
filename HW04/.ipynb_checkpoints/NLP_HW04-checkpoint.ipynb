{
 "cells": [
  {
   "cell_type": "code",
   "execution_count": 1,
   "metadata": {},
   "outputs": [
    {
     "name": "stderr",
     "output_type": "stream",
     "text": [
      "D:\\Anaconda3\\lib\\site-packages\\sklearn\\externals\\joblib\\__init__.py:15: DeprecationWarning: sklearn.externals.joblib is deprecated in 0.21 and will be removed in 0.23. Please import this functionality directly from joblib, which can be installed with: pip install joblib. If this warning is raised when loading pickled models, you may need to re-serialize those models with scikit-learn 0.21+.\n",
      "  warnings.warn(msg, category=DeprecationWarning)\n"
     ]
    }
   ],
   "source": [
    "import word2vec\n",
    "import pandas as pd"
   ]
  },
  {
   "cell_type": "code",
   "execution_count": 2,
   "metadata": {},
   "outputs": [
    {
     "name": "stdout",
     "output_type": "stream",
     "text": [
      "     id                                      url  title  \\\n",
      "0    13   https://zh.wikipedia.org/wiki?curid=13     數學   \n",
      "1    18   https://zh.wikipedia.org/wiki?curid=18     哲學   \n",
      "2    21   https://zh.wikipedia.org/wiki?curid=21     文學   \n",
      "3    22   https://zh.wikipedia.org/wiki?curid=22     歷史   \n",
      "4    25   https://zh.wikipedia.org/wiki?curid=25  計算機科學   \n",
      "..  ...                                      ...    ...   \n",
      "59  235  https://zh.wikipedia.org/wiki?curid=235    上海市   \n",
      "60  244  https://zh.wikipedia.org/wiki?curid=244     史家   \n",
      "61  256  https://zh.wikipedia.org/wiki?curid=256  開放源代碼   \n",
      "62  257  https://zh.wikipedia.org/wiki?curid=257   計算數學   \n",
      "63  258  https://zh.wikipedia.org/wiki?curid=258    高德納   \n",
      "\n",
      "                                                 text  \n",
      "0   數學\\n\\n數學是利用符號語言研究數量、結構、變化以及空間等概念的一門學科，從某種角度看屬於...  \n",
      "1   哲學\\n\\n哲學（）是研究普遍的、根本的問題的學科，包括存在、知識、價值、理智、心靈、語言等...  \n",
      "2   文學\\n\\n文學（），在最廣泛的意義上，是任何單一的書面作品。\\n\\n更嚴格地說，文學寫作被...  \n",
      "3   歷史\\n\\n歷史（現代漢語詞彙，古典文言文稱之爲史），指人類社會過去的事件和行動，以及對這些...  \n",
      "4   計算機科學\\n\\n計算機科學（，有時縮寫爲）是系統性研究信息與計算的理論基礎以及它們在計算機...  \n",
      "..                                                ...  \n",
      "59  上海市\\n\\n上海，簡稱滬，別稱申，是中華人民共和國直轄市，也是中國經濟最發達的城市之一，國...  \n",
      "60  史家\\n\\n歷史學家也稱歷史家、史學家、史家，指以撰寫歷史著作爲職業或對歷史學的創立、發展與...  \n",
      "61  開放源代碼\\n\\n開放源代碼（）描述了一種在產品的出品和開發中提供最終源材料的做法。在這個詞...  \n",
      "62  計算數學\\n\\n計算數學是數學的一個分支，研究的內容包括設計和分析算法以及數學建模等，目的是...  \n",
      "63  高德納\\n\\n高德納（，音譯：唐納德·爾文·克努斯，），出生於美國密爾沃基，著名計算機科學家...  \n",
      "\n",
      "[64 rows x 4 columns]\n"
     ]
    }
   ],
   "source": [
    "from opencc import OpenCC\n",
    "cc = OpenCC('s2t')\n",
    "\n",
    "\n",
    "fd = open('D://NLP/HW04/wiki_zh_2019/wiki_zh/AA/wiki_00', \"r\", encoding=\"utf-8\")\n",
    "\n",
    "id_list    = []\n",
    "url_list   = []\n",
    "title_list = []\n",
    "text_list  = []\n",
    "\n",
    "lines = fd.readlines()\n",
    "for line in lines:\n",
    "    line = line.strip('')\n",
    "\n",
    "    id_value    = line.split(', ')[0].strip('{').split(' ')[1].strip('\"')\n",
    "    url_value   = line.split(', ')[1].split(' ')[1].strip('\"')\n",
    "    title_value = cc.convert(str(line.split(', ')[2].split(' ')[1].strip('\"')))\n",
    "    text_value  = cc.convert(str(line.split(', ')[3].split(': \"')[1].strip('\"\\'}\\n')))\n",
    "    \n",
    "    id_list.append(id_value)\n",
    "    url_list.append(url_value)\n",
    "    title_list.append(title_value)\n",
    "    text_list.append(text_value)\n",
    "\n",
    "fd.close()\n",
    "\n",
    "wiki_dict = {'id': id_list, 'url': url_list, 'title': title_list, 'text': text_list} \n",
    "wiki_df = pd.DataFrame(wiki_dict)\n",
    "\n",
    "print(wiki_df)"
   ]
  },
  {
   "cell_type": "code",
   "execution_count": 3,
   "metadata": {},
   "outputs": [],
   "source": [
    "import jieba\n",
    "import jieba.analyse"
   ]
  },
  {
   "cell_type": "code",
   "execution_count": 4,
   "metadata": {},
   "outputs": [],
   "source": [
    "def remove_stop_words(filename, word_list):\n",
    "    with open(filename, 'r', encoding=\"utf-8\") as f:\n",
    "        stop_words = f.read().split('\\n')\n",
    "        \n",
    "    stops.append('\\n')\n",
    "    stops.append('\\n\\n')\n",
    "    stops.append('\\n\\n\\n')\n",
    "    stops.append('\\n\\n\\n\\n')\n",
    "    \n",
    "    new_list = []\n",
    "    \n",
    "    for word in word_list:\n",
    "        if word not in stop_words:\n",
    "            new_list.append(word)\n",
    "    \n",
    "    return new_list"
   ]
  },
  {
   "cell_type": "code",
   "execution_count": 39,
   "metadata": {},
   "outputs": [],
   "source": [
    "for text in text_list:\n",
    "    text = jieba.lcut(text, cut_all=True)\n",
    "    text = remove_stop_words('stop.txt', text)\n",
    "    print(text)"
   ]
  },
  {
   "cell_type": "code",
   "execution_count": null,
   "metadata": {},
   "outputs": [],
   "source": []
  }
 ],
 "metadata": {
  "kernelspec": {
   "display_name": "Python 3",
   "language": "python",
   "name": "python3"
  },
  "language_info": {
   "codemirror_mode": {
    "name": "ipython",
    "version": 3
   },
   "file_extension": ".py",
   "mimetype": "text/x-python",
   "name": "python",
   "nbconvert_exporter": "python",
   "pygments_lexer": "ipython3",
   "version": "3.7.4"
  }
 },
 "nbformat": 4,
 "nbformat_minor": 2
}
