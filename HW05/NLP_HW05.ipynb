{
 "cells": [
  {
   "cell_type": "code",
   "execution_count": 1,
   "source": [
    "from keras.models import Model\r\n",
    "from keras.layers import Input, LSTM, Dense\r\n",
    "\r\n",
    "import numpy as np\r\n",
    "import json"
   ],
   "outputs": [],
   "metadata": {}
  },
  {
   "cell_type": "code",
   "execution_count": 37,
   "source": [
    "batch_size  = 32\r\n",
    "epochs      = 50\r\n",
    "latent_dim  = 128"
   ],
   "outputs": [],
   "metadata": {}
  },
  {
   "cell_type": "code",
   "execution_count": 40,
   "source": [
    "# Get training/testing data \r\n",
    "\r\n",
    "filepath = 'D://NLP/translation2019zh/translation2019zh_train.json'\r\n",
    "\r\n",
    "\r\n",
    "input_texts  = []\r\n",
    "target_texts = []\r\n",
    "\r\n",
    "input_characters  = set()\r\n",
    "target_characters = set()\r\n",
    "\r\n",
    "\r\n",
    "fd = open(filepath, 'r', encoding='utf-8')\r\n",
    "\r\n",
    "i = 0\r\n",
    "lines = fd.readlines()\r\n",
    "\r\n",
    "for line in lines:\r\n",
    "    i += 1\r\n",
    "    if i == 512:\r\n",
    "        break\r\n",
    "    \r\n",
    "    line = line.strip('{').strip('}\\n')\r\n",
    "    \r\n",
    "    input_text   = line.split('\"english\": ')[1].split(', \"chinese\": ')[0].strip('\"')\r\n",
    "    target_text  = line.split(', \"chinese\": ')[1].strip('\"')\r\n",
    "    target_text  = '\\t' + target_text  + '\\n'\r\n",
    "    \r\n",
    "    input_texts.append(input_text)\r\n",
    "    target_texts.append(target_text)\r\n",
    "    \r\n",
    "    \r\n",
    "    for char in input_text:\r\n",
    "        if char not in input_characters:\r\n",
    "            input_characters.add(char)\r\n",
    "    \r\n",
    "    for char in target_text:\r\n",
    "        if char not in target_characters:\r\n",
    "            target_characters.add(char)\r\n",
    "            \r\n",
    "# 字典排序            \r\n",
    "input_characters  = sorted(list(input_characters))\r\n",
    "target_characters = sorted(list(target_characters))\r\n",
    "num_encoder_tokens = len(input_characters)\r\n",
    "num_decoder_tokens = len(target_characters)\r\n",
    "\r\n",
    "# 計算編碼器、解碼器的最大長度\r\n",
    "max_encoder_seq_length = max([len(txt) for txt in input_texts])\r\n",
    "max_decoder_seq_length = max([len(txt) for txt in target_texts])\r\n",
    "\r\n",
    "print('Number of samples:', len(input_texts))\r\n",
    "print('Number of unique input tokens:', num_encoder_tokens)\r\n",
    "print('Number of unique output tokens:', num_decoder_tokens)\r\n",
    "print('Max sequence length for inputs:', max_encoder_seq_length)\r\n",
    "print('Max sequence length for outputs:', max_decoder_seq_length)\r\n",
    "\r\n",
    "# 以dict儲存字典單字及序號\r\n",
    "input_token_index = dict(\r\n",
    "    [(char, i) for i, char in enumerate(input_characters)])\r\n",
    "target_token_index = dict(\r\n",
    "    [(char, i) for i, char in enumerate(target_characters)])\r\n",
    "\r\n",
    "# 設定編碼器、解碼器input起始值(均為0矩陣)\r\n",
    "encoder_input_data = np.zeros(\r\n",
    "    (len(input_texts), max_encoder_seq_length, num_encoder_tokens),\r\n",
    "    dtype='float32')\r\n",
    "decoder_input_data = np.zeros(\r\n",
    "    (len(input_texts), max_decoder_seq_length, num_decoder_tokens),\r\n",
    "    dtype='float32')\r\n",
    "decoder_target_data = np.zeros(\r\n",
    "    (len(input_texts), max_decoder_seq_length, num_decoder_tokens),\r\n",
    "    dtype='float32')\r\n",
    "\r\n",
    "\r\n",
    "# 設定 encoder_input、decoder_input對應的順序    \r\n",
    "for i, (input_text, target_text) in enumerate(zip(input_texts, target_texts)):\r\n",
    "    for t, char in enumerate(input_text):\r\n",
    "        encoder_input_data[i, t, input_token_index[char]] = 1.\r\n",
    "\r\n",
    "    for t, char in enumerate(target_text):\r\n",
    "        decoder_input_data[i, t, target_token_index[char]] = 1.\r\n",
    "        if t > 0:\r\n",
    "            # decoder_target_data will be ahead by one timestep\r\n",
    "            # and will not include the start character.\r\n",
    "            decoder_target_data[i, t - 1, target_token_index[char]] = 1."
   ],
   "outputs": [
    {
     "output_type": "stream",
     "name": "stdout",
     "text": [
      "Number of samples: 511\n",
      "Number of unique input tokens: 126\n",
      "Number of unique output tokens: 2002\n",
      "Max sequence length for inputs: 232\n",
      "Max sequence length for outputs: 122\n"
     ]
    }
   ],
   "metadata": {}
  },
  {
   "cell_type": "code",
   "execution_count": null,
   "source": [],
   "outputs": [],
   "metadata": {}
  }
 ],
 "metadata": {
  "kernelspec": {
   "display_name": "Python 3",
   "language": "python",
   "name": "python3"
  },
  "language_info": {
   "codemirror_mode": {
    "name": "ipython",
    "version": 3
   },
   "file_extension": ".py",
   "mimetype": "text/x-python",
   "name": "python",
   "nbconvert_exporter": "python",
   "pygments_lexer": "ipython3",
   "version": "3.7.4"
  }
 },
 "nbformat": 4,
 "nbformat_minor": 2
}