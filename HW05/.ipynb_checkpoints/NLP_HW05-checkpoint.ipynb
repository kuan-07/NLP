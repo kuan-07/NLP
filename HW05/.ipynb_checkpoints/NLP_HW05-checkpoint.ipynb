{
 "cells": [
  {
   "cell_type": "code",
   "execution_count": 8,
   "metadata": {},
   "outputs": [],
   "source": [
    "from keras.models import Model\n",
    "from keras.layers import Input, LSTM, Dense\n",
    "\n",
    "import numpy as np\n",
    "import json"
   ]
  },
  {
   "cell_type": "code",
   "execution_count": 6,
   "metadata": {},
   "outputs": [],
   "source": [
    "batch_size  = 64 \n",
    "epochs      = 100\n",
    "latent_dim  = 256\n",
    "num_samples = 10000"
   ]
  },
  {
   "cell_type": "code",
   "execution_count": 36,
   "metadata": {},
   "outputs": [
    {
     "name": "stdout",
     "output_type": "stream",
     "text": [
      "He had a cold and spoke with a slight snuffle. \n",
      "\n",
      "他感冒了， 说话有点齉鼻儿。 \n",
      "\n"
     ]
    }
   ],
   "source": [
    "filepath = 'D://NLP/translation2019zh/translation2019zh_valid.json'\n",
    "\n",
    "\n",
    "input_texts  = []\n",
    "target_texts = []\n",
    "\n",
    "input_characters  = set()\n",
    "target_characters = set()\n",
    "\n",
    "\n",
    "fd = open(filepath, 'r', encoding='utf-8')\n",
    "\n",
    "lines = fd.readlines()\n",
    "for line in lines:\n",
    "    line = line.strip('{').strip('}\\n')\n",
    "    \n",
    "    en_text = line.split('\"english\": ')[1].split(', \"chinese\": ')[0].strip('\"')\n",
    "    ch_text = line.split(', \"chinese\": ')[1].strip('\"')\n",
    "\n",
    "    input_texts.append(str(en_text))\n",
    "    target_texts.append(str(ch_text))\n",
    "\n",
    "\n",
    "\n",
    "\n",
    "print(en_text, \"\\n\")\n",
    "print(ch_text, \"\\n\")"
   ]
  },
  {
   "cell_type": "code",
   "execution_count": null,
   "metadata": {},
   "outputs": [],
   "source": []
  }
 ],
 "metadata": {
  "kernelspec": {
   "display_name": "Python 3",
   "language": "python",
   "name": "python3"
  },
  "language_info": {
   "codemirror_mode": {
    "name": "ipython",
    "version": 3
   },
   "file_extension": ".py",
   "mimetype": "text/x-python",
   "name": "python",
   "nbconvert_exporter": "python",
   "pygments_lexer": "ipython3",
   "version": "3.7.4"
  }
 },
 "nbformat": 4,
 "nbformat_minor": 2
}
