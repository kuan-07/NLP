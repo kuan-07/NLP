{
 "cells": [
  {
   "cell_type": "code",
   "execution_count": 85,
   "metadata": {},
   "outputs": [
    {
     "name": "stdout",
     "output_type": "stream",
     "text": [
      "cut time :  0.05385088920593262 s\n",
      "\n",
      "total words count :  4527\n"
     ]
    }
   ],
   "source": [
    "import jieba\n",
    "import jieba.analyse\n",
    "import pandas as pd\n",
    "import matplotlib.pylab as plt\n",
    "import time\n",
    "\n",
    "\n",
    "doc = open('./hw1-dataset-ez.txt', 'r', encoding = \"utf-8\").read()\n",
    "\n",
    "\n",
    "tags_list = jieba.analyse.extract_tags(doc, topK = 10, withWeight = True, allowPOS=())\n",
    "\n",
    "tags_list.sort(key=lambda x:x[1], reverse=True)\n",
    "#print(tags_list)\n",
    "\n",
    "\n",
    "# start time \n",
    "cut_st = time.time()\n",
    "\n",
    "words_list = jieba.lcut(doc)\n",
    "\n",
    "# end time\n",
    "cut_et = time.time()\n",
    "print(\"cut time : \", cut_et - cut_st, \"s\")\n",
    "\n",
    "# number of each word\n",
    "word_count = {}\n",
    "for word in words_list:\n",
    "    word_count[word] = word_count.get(word, 0) + 1\n",
    "\n",
    "# delete the particular character\n",
    "del_keys = ['\\t', '\\n', '。', '!','！', '?', ',', '？', '\\u3000', ' ', '，', '\\\\', '/']\n",
    "for del_key in del_keys:\n",
    "    del word_count[del_key]\n",
    "    \n",
    "#print(\"\\nwords count : \", word_count)\n",
    "\n",
    "\n",
    "total_count = sum(word_count.values())\n",
    "print(\"\\ntotal words count : \", total_count)\n",
    "\n",
    "# frequency of each word\n",
    "word_freq = word_count\n",
    "for word in word_freq:\n",
    "    word_freq[word] /= total_count\n",
    "    \n",
    "#print(\"\\nwords freq : \", word_freq)\n",
    "\n",
    "items = list(word_freq.items())\n",
    "items.sort(key=lambda x:x[1], reverse=True) \n",
    "#print(items)\n",
    "\n",
    "\n"
   ]
  },
  {
   "cell_type": "code",
   "execution_count": null,
   "metadata": {},
   "outputs": [],
   "source": []
  }
 ],
 "metadata": {
  "kernelspec": {
   "display_name": "Python 3",
   "language": "python",
   "name": "python3"
  },
  "language_info": {
   "codemirror_mode": {
    "name": "ipython",
    "version": 3
   },
   "file_extension": ".py",
   "mimetype": "text/x-python",
   "name": "python",
   "nbconvert_exporter": "python",
   "pygments_lexer": "ipython3",
   "version": "3.7.4"
  }
 },
 "nbformat": 4,
 "nbformat_minor": 2
}
