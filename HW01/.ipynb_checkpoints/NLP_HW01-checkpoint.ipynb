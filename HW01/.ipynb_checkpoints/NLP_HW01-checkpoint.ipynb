{
 "cells": [
  {
   "cell_type": "code",
   "execution_count": 1,
   "metadata": {},
   "outputs": [
    {
     "name": "stderr",
     "output_type": "stream",
     "text": [
      "Building prefix dict from the default dictionary ...\n",
      "Loading model from cache C:\\Users\\User\\AppData\\Local\\Temp\\jieba.cache\n",
      "Loading model cost 0.659 seconds.\n",
      "Prefix dict has been built successfully.\n"
     ]
    },
    {
     "name": "stdout",
     "output_type": "stream",
     "text": [
      "cut time :  0.7405474185943604 s\n",
      "\n",
      "Add something to test commit.\n"
     ]
    }
   ],
   "source": [
    "import jieba\n",
    "import jieba.analyse\n",
    "import time\n",
    "\n",
    "\n",
    "doc = open('./hw1-dataset-ez.txt', 'r', encoding = \"utf-8\").read()\n",
    "\n",
    "\n",
    "cut_st = time.time()\n",
    "\n",
    "result = jieba.analyse.extract_tags(doc, topK = 100, withWeight = True, allowPOS = ())\n",
    "\n",
    "cut_et = time.time()\n",
    "print(\"cut time : \", cut_et - cut_st, \"s\\n\")\n",
    "\n",
    "'''\n",
    "for item in result:\n",
    "    print(item[0], item[1])\n",
    "'''\n",
    "\n",
    "print(\"Add something to test commit.\")\n"
   ]
  },
  {
   "cell_type": "code",
   "execution_count": null,
   "metadata": {},
   "outputs": [],
   "source": []
  }
 ],
 "metadata": {
  "kernelspec": {
   "display_name": "Python 3",
   "language": "python",
   "name": "python3"
  },
  "language_info": {
   "codemirror_mode": {
    "name": "ipython",
    "version": 3
   },
   "file_extension": ".py",
   "mimetype": "text/x-python",
   "name": "python",
   "nbconvert_exporter": "python",
   "pygments_lexer": "ipython3",
   "version": "3.7.4"
  }
 },
 "nbformat": 4,
 "nbformat_minor": 2
}
